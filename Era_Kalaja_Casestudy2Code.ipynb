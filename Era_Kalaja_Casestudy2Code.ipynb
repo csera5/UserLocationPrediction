{
 "cells": [
  {
   "cell_type": "markdown",
   "id": "fa90d0f1",
   "metadata": {},
   "source": [
    "For this case study, you will perform a classification task on a WiFi dataset. You will use WLAN fingerprints to identify the location of a user. You will identify locations using the building numbers and floor numbers only. \n",
    "\n",
    "You will also explore the question, \"is more data useful for a classification task?\"\n",
    "\n",
    "The dataset you will use can be found on: https://archive.ics.uci.edu/ml/datasets/ujiindoorloc .\n",
    "\n",
    "**\\[Step 1\\]** Once you examine the data sets, you will find that there is a training set and a validation set. However, you must also create a test set that has the same number of samples as the validation set. You can select and remove random samples from the training set and use them to create a test set. The test set should not be used in the training process or to optimize the parameters of any algorithm you use. The test set should only be used to report the final performance of a model whenever necessary.\n",
    "\n",
    "You may need to determine the features and labels of your model. You can also do some engineering on features and labels if necessary.\n",
    "\n",
    "**\\[Step 2\\]** But, which algorithm should you use with your model? You can refer to the scikit-learn cheat sheet: https://scikit-learn.org/stable/tutorial/machine_learning_map/index.html, and try three algorithms. Some suggestions are: LinearSVC, Logistic Regression, KNN classifier, SVC, Random Forest (as an example of Ensemble Learning) etc. Perform one experiment using each and observe the performance of each model. Note which is the best performing model.\n",
    "\n",
    "**\\[Step 3\\]** Once the previous step is done, observe if more data is useful for a classification task. For this, randomly select 20% of the training samples, but keep the size of the test set the same. You wil not use the validation set in this step as you will not optimize the model in any way. Note the performance. Then also try with 40%, 60%, 80% and 100% of the training samples. Perform three experiments for each selection. This means, for 20% you will do three experiments, 40% three experiments etc. Find the average of three experiments for each selection and plot them using a method of your choice.\n",
    "\n",
    "**\\[Step 4\\]** Publish your finding in presentation slides. Like case study 1, three of you will be randomly chosen to present your work in front of the class. The slides should inform the audience about:\n",
    "\n",
    "* the objective of the case study\n",
    "* the data (features and labels)\n",
    "* things you have done (e.g. why you selected a specific classification model)\n",
    "* challenges you have faced that might be interesting to your classmates\n",
    "* your findings\n",
    "\n",
    "\n",
    "**Things to note**:\n",
    "\n",
    "* **Type of task**: classification\n",
    "* **Features**: you choose\n",
    "* **Feature engineering**: You are welcome to do so.\n",
    "* **Labels**: User locations. Use building and floor IDs, but ignore the SPACEID column.\n",
    "\n",
    "* In some cases, normalization may result in reduced accuracy.\n",
    "* You must write enough comments so that anybody with some programming knowledge can understand your code.\n",
    "\n",
    "Also,\n",
    "* This is not a group project. But if you think you will benefit from working with a partner, you are welcome to find a partner. No points will be deducted if you choose to do so. However, you must inform Himan (the TA) and me (Prof. Ghoshal) by **September 25, 2023** in that case.\n",
    "\n",
    "\n",
    "**Grading Criteria**:\n",
    "\n",
    "* [15 + 15] Data set preparation: Choosing your $X$ (features) and $y$ (label). Feature Engineering.\n",
    "* [15 + 15 + 15] Three experiments using three algorithms.  \n",
    "* [15] Observing the effects of more data using five sets of random samples of different sizes from the training set. \n",
    "* [10] Presentation slides and presentation.\n",
    "\n",
    "**What to submit**:\n",
    "\n",
    "Put the Jupyter Notebook file and the .csv file in a folder. Then convert your presentation slides to a PDF file and put it in the same folder. Zip the folder. After zipping, it should have the extension .zip. The name of the .zip file should be firstname_lastname_casestudy_2.zip . Upload the .zip file on Canvas."
   ]
  },
  {
   "cell_type": "code",
   "execution_count": 1,
   "id": "e2b9b93c",
   "metadata": {},
   "outputs": [],
   "source": [
    "# importing necessary libraries \n",
    "import numpy as np  #used for plotting \n",
    "import pandas as pd #used for dataset manipulation\n",
    "from sklearn.preprocessing import StandardScaler #used for standardization in kth nearest neighbors model\n",
    "from sklearn import model_selection #used for cross validation steps\n",
    "from sklearn.linear_model import LinearRegression  \n",
    "from sklearn.model_selection import train_test_split # used for splitting the training data and testing data\n",
    "#import seaborn as sns \n",
    "import matplotlib.pyplot as plt #used for scatter plot average of training sets\n",
    "from sklearn.metrics import accuracy_score #used to print accuracy of models"
   ]
  },
  {
   "cell_type": "markdown",
   "id": "7d2b581f",
   "metadata": {},
   "source": [
    "# Step 1"
   ]
  },
  {
   "cell_type": "code",
   "execution_count": 2,
   "id": "42b2b753",
   "metadata": {},
   "outputs": [],
   "source": [
    "#load entire dataset \n",
    "whole_data = pd.read_csv('trainingData.csv') #contains the entire training data set unfiltered and before the split\n",
    "data_validate = pd.read_csv('validationData.csv') # contains the entire validation data set unfiltered \n",
    "whole_data_backup = whole_data.copy()  #after loading all the data saving a backup variable to store it whole \n",
    "#whole_data # <- printing to ensure that data was brought in properly, now lets start thinking about features vs target"
   ]
  },
  {
   "cell_type": "code",
   "execution_count": 3,
   "id": "79fa9b1e",
   "metadata": {},
   "outputs": [
    {
     "data": {
      "text/html": [
       "<div>\n",
       "<style scoped>\n",
       "    .dataframe tbody tr th:only-of-type {\n",
       "        vertical-align: middle;\n",
       "    }\n",
       "\n",
       "    .dataframe tbody tr th {\n",
       "        vertical-align: top;\n",
       "    }\n",
       "\n",
       "    .dataframe thead th {\n",
       "        text-align: right;\n",
       "    }\n",
       "</style>\n",
       "<table border=\"1\" class=\"dataframe\">\n",
       "  <thead>\n",
       "    <tr style=\"text-align: right;\">\n",
       "      <th></th>\n",
       "      <th>WAP001</th>\n",
       "      <th>WAP002</th>\n",
       "      <th>WAP003</th>\n",
       "      <th>WAP004</th>\n",
       "      <th>WAP005</th>\n",
       "      <th>WAP006</th>\n",
       "      <th>WAP007</th>\n",
       "      <th>WAP008</th>\n",
       "      <th>WAP009</th>\n",
       "      <th>WAP010</th>\n",
       "      <th>...</th>\n",
       "      <th>WAP520</th>\n",
       "      <th>LONGITUDE</th>\n",
       "      <th>LATITUDE</th>\n",
       "      <th>FLOOR</th>\n",
       "      <th>BUILDINGID</th>\n",
       "      <th>SPACEID</th>\n",
       "      <th>RELATIVEPOSITION</th>\n",
       "      <th>USERID</th>\n",
       "      <th>PHONEID</th>\n",
       "      <th>TIMESTAMP</th>\n",
       "    </tr>\n",
       "  </thead>\n",
       "  <tbody>\n",
       "    <tr>\n",
       "      <th>count</th>\n",
       "      <td>19937.000000</td>\n",
       "      <td>19937.000000</td>\n",
       "      <td>19937.0</td>\n",
       "      <td>19937.0</td>\n",
       "      <td>19937.000000</td>\n",
       "      <td>19937.000000</td>\n",
       "      <td>19937.000000</td>\n",
       "      <td>19937.000000</td>\n",
       "      <td>19937.000000</td>\n",
       "      <td>19937.000000</td>\n",
       "      <td>...</td>\n",
       "      <td>19937.0</td>\n",
       "      <td>19937.000000</td>\n",
       "      <td>1.993700e+04</td>\n",
       "      <td>19937.000000</td>\n",
       "      <td>19937.000000</td>\n",
       "      <td>19937.000000</td>\n",
       "      <td>19937.000000</td>\n",
       "      <td>19937.000000</td>\n",
       "      <td>19937.000000</td>\n",
       "      <td>1.993700e+04</td>\n",
       "    </tr>\n",
       "    <tr>\n",
       "      <th>mean</th>\n",
       "      <td>99.823644</td>\n",
       "      <td>99.820936</td>\n",
       "      <td>100.0</td>\n",
       "      <td>100.0</td>\n",
       "      <td>99.613733</td>\n",
       "      <td>97.130461</td>\n",
       "      <td>94.733661</td>\n",
       "      <td>93.820234</td>\n",
       "      <td>94.693936</td>\n",
       "      <td>99.163766</td>\n",
       "      <td>...</td>\n",
       "      <td>100.0</td>\n",
       "      <td>-7464.275947</td>\n",
       "      <td>4.864871e+06</td>\n",
       "      <td>1.674575</td>\n",
       "      <td>1.212820</td>\n",
       "      <td>148.429954</td>\n",
       "      <td>1.833024</td>\n",
       "      <td>9.068014</td>\n",
       "      <td>13.021869</td>\n",
       "      <td>1.371421e+09</td>\n",
       "    </tr>\n",
       "    <tr>\n",
       "      <th>std</th>\n",
       "      <td>5.866842</td>\n",
       "      <td>5.798156</td>\n",
       "      <td>0.0</td>\n",
       "      <td>0.0</td>\n",
       "      <td>8.615657</td>\n",
       "      <td>22.931890</td>\n",
       "      <td>30.541335</td>\n",
       "      <td>33.010404</td>\n",
       "      <td>30.305084</td>\n",
       "      <td>12.634045</td>\n",
       "      <td>...</td>\n",
       "      <td>0.0</td>\n",
       "      <td>123.402010</td>\n",
       "      <td>6.693318e+01</td>\n",
       "      <td>1.223078</td>\n",
       "      <td>0.833139</td>\n",
       "      <td>58.342106</td>\n",
       "      <td>0.372964</td>\n",
       "      <td>4.988720</td>\n",
       "      <td>5.362410</td>\n",
       "      <td>5.572054e+05</td>\n",
       "    </tr>\n",
       "    <tr>\n",
       "      <th>min</th>\n",
       "      <td>-97.000000</td>\n",
       "      <td>-90.000000</td>\n",
       "      <td>100.0</td>\n",
       "      <td>100.0</td>\n",
       "      <td>-97.000000</td>\n",
       "      <td>-98.000000</td>\n",
       "      <td>-99.000000</td>\n",
       "      <td>-98.000000</td>\n",
       "      <td>-98.000000</td>\n",
       "      <td>-99.000000</td>\n",
       "      <td>...</td>\n",
       "      <td>100.0</td>\n",
       "      <td>-7691.338400</td>\n",
       "      <td>4.864746e+06</td>\n",
       "      <td>0.000000</td>\n",
       "      <td>0.000000</td>\n",
       "      <td>1.000000</td>\n",
       "      <td>1.000000</td>\n",
       "      <td>1.000000</td>\n",
       "      <td>1.000000</td>\n",
       "      <td>1.369909e+09</td>\n",
       "    </tr>\n",
       "    <tr>\n",
       "      <th>25%</th>\n",
       "      <td>100.000000</td>\n",
       "      <td>100.000000</td>\n",
       "      <td>100.0</td>\n",
       "      <td>100.0</td>\n",
       "      <td>100.000000</td>\n",
       "      <td>100.000000</td>\n",
       "      <td>100.000000</td>\n",
       "      <td>100.000000</td>\n",
       "      <td>100.000000</td>\n",
       "      <td>100.000000</td>\n",
       "      <td>...</td>\n",
       "      <td>100.0</td>\n",
       "      <td>-7594.737000</td>\n",
       "      <td>4.864821e+06</td>\n",
       "      <td>1.000000</td>\n",
       "      <td>0.000000</td>\n",
       "      <td>110.000000</td>\n",
       "      <td>2.000000</td>\n",
       "      <td>5.000000</td>\n",
       "      <td>8.000000</td>\n",
       "      <td>1.371056e+09</td>\n",
       "    </tr>\n",
       "    <tr>\n",
       "      <th>50%</th>\n",
       "      <td>100.000000</td>\n",
       "      <td>100.000000</td>\n",
       "      <td>100.0</td>\n",
       "      <td>100.0</td>\n",
       "      <td>100.000000</td>\n",
       "      <td>100.000000</td>\n",
       "      <td>100.000000</td>\n",
       "      <td>100.000000</td>\n",
       "      <td>100.000000</td>\n",
       "      <td>100.000000</td>\n",
       "      <td>...</td>\n",
       "      <td>100.0</td>\n",
       "      <td>-7423.060900</td>\n",
       "      <td>4.864852e+06</td>\n",
       "      <td>2.000000</td>\n",
       "      <td>1.000000</td>\n",
       "      <td>129.000000</td>\n",
       "      <td>2.000000</td>\n",
       "      <td>11.000000</td>\n",
       "      <td>13.000000</td>\n",
       "      <td>1.371716e+09</td>\n",
       "    </tr>\n",
       "    <tr>\n",
       "      <th>75%</th>\n",
       "      <td>100.000000</td>\n",
       "      <td>100.000000</td>\n",
       "      <td>100.0</td>\n",
       "      <td>100.0</td>\n",
       "      <td>100.000000</td>\n",
       "      <td>100.000000</td>\n",
       "      <td>100.000000</td>\n",
       "      <td>100.000000</td>\n",
       "      <td>100.000000</td>\n",
       "      <td>100.000000</td>\n",
       "      <td>...</td>\n",
       "      <td>100.0</td>\n",
       "      <td>-7359.193000</td>\n",
       "      <td>4.864930e+06</td>\n",
       "      <td>3.000000</td>\n",
       "      <td>2.000000</td>\n",
       "      <td>207.000000</td>\n",
       "      <td>2.000000</td>\n",
       "      <td>13.000000</td>\n",
       "      <td>14.000000</td>\n",
       "      <td>1.371721e+09</td>\n",
       "    </tr>\n",
       "    <tr>\n",
       "      <th>max</th>\n",
       "      <td>100.000000</td>\n",
       "      <td>100.000000</td>\n",
       "      <td>100.0</td>\n",
       "      <td>100.0</td>\n",
       "      <td>100.000000</td>\n",
       "      <td>100.000000</td>\n",
       "      <td>100.000000</td>\n",
       "      <td>100.000000</td>\n",
       "      <td>100.000000</td>\n",
       "      <td>100.000000</td>\n",
       "      <td>...</td>\n",
       "      <td>100.0</td>\n",
       "      <td>-7300.818990</td>\n",
       "      <td>4.865017e+06</td>\n",
       "      <td>4.000000</td>\n",
       "      <td>2.000000</td>\n",
       "      <td>254.000000</td>\n",
       "      <td>2.000000</td>\n",
       "      <td>18.000000</td>\n",
       "      <td>24.000000</td>\n",
       "      <td>1.371738e+09</td>\n",
       "    </tr>\n",
       "  </tbody>\n",
       "</table>\n",
       "<p>8 rows × 529 columns</p>\n",
       "</div>"
      ],
      "text/plain": [
       "             WAP001        WAP002   WAP003   WAP004        WAP005  \\\n",
       "count  19937.000000  19937.000000  19937.0  19937.0  19937.000000   \n",
       "mean      99.823644     99.820936    100.0    100.0     99.613733   \n",
       "std        5.866842      5.798156      0.0      0.0      8.615657   \n",
       "min      -97.000000    -90.000000    100.0    100.0    -97.000000   \n",
       "25%      100.000000    100.000000    100.0    100.0    100.000000   \n",
       "50%      100.000000    100.000000    100.0    100.0    100.000000   \n",
       "75%      100.000000    100.000000    100.0    100.0    100.000000   \n",
       "max      100.000000    100.000000    100.0    100.0    100.000000   \n",
       "\n",
       "             WAP006        WAP007        WAP008        WAP009        WAP010  \\\n",
       "count  19937.000000  19937.000000  19937.000000  19937.000000  19937.000000   \n",
       "mean      97.130461     94.733661     93.820234     94.693936     99.163766   \n",
       "std       22.931890     30.541335     33.010404     30.305084     12.634045   \n",
       "min      -98.000000    -99.000000    -98.000000    -98.000000    -99.000000   \n",
       "25%      100.000000    100.000000    100.000000    100.000000    100.000000   \n",
       "50%      100.000000    100.000000    100.000000    100.000000    100.000000   \n",
       "75%      100.000000    100.000000    100.000000    100.000000    100.000000   \n",
       "max      100.000000    100.000000    100.000000    100.000000    100.000000   \n",
       "\n",
       "       ...   WAP520     LONGITUDE      LATITUDE         FLOOR    BUILDINGID  \\\n",
       "count  ...  19937.0  19937.000000  1.993700e+04  19937.000000  19937.000000   \n",
       "mean   ...    100.0  -7464.275947  4.864871e+06      1.674575      1.212820   \n",
       "std    ...      0.0    123.402010  6.693318e+01      1.223078      0.833139   \n",
       "min    ...    100.0  -7691.338400  4.864746e+06      0.000000      0.000000   \n",
       "25%    ...    100.0  -7594.737000  4.864821e+06      1.000000      0.000000   \n",
       "50%    ...    100.0  -7423.060900  4.864852e+06      2.000000      1.000000   \n",
       "75%    ...    100.0  -7359.193000  4.864930e+06      3.000000      2.000000   \n",
       "max    ...    100.0  -7300.818990  4.865017e+06      4.000000      2.000000   \n",
       "\n",
       "            SPACEID  RELATIVEPOSITION        USERID       PHONEID  \\\n",
       "count  19937.000000      19937.000000  19937.000000  19937.000000   \n",
       "mean     148.429954          1.833024      9.068014     13.021869   \n",
       "std       58.342106          0.372964      4.988720      5.362410   \n",
       "min        1.000000          1.000000      1.000000      1.000000   \n",
       "25%      110.000000          2.000000      5.000000      8.000000   \n",
       "50%      129.000000          2.000000     11.000000     13.000000   \n",
       "75%      207.000000          2.000000     13.000000     14.000000   \n",
       "max      254.000000          2.000000     18.000000     24.000000   \n",
       "\n",
       "          TIMESTAMP  \n",
       "count  1.993700e+04  \n",
       "mean   1.371421e+09  \n",
       "std    5.572054e+05  \n",
       "min    1.369909e+09  \n",
       "25%    1.371056e+09  \n",
       "50%    1.371716e+09  \n",
       "75%    1.371721e+09  \n",
       "max    1.371738e+09  \n",
       "\n",
       "[8 rows x 529 columns]"
      ]
     },
     "execution_count": 3,
     "metadata": {},
     "output_type": "execute_result"
    }
   ],
   "source": [
    "#steps to understand the data better before feature engineering\n",
    "whole_data.describe() "
   ]
  },
  {
   "cell_type": "code",
   "execution_count": 4,
   "id": "beda4589",
   "metadata": {},
   "outputs": [
    {
     "name": "stdout",
     "output_type": "stream",
     "text": [
      "<class 'pandas.core.frame.DataFrame'>\n",
      "RangeIndex: 19937 entries, 0 to 19936\n",
      "Columns: 529 entries, WAP001 to TIMESTAMP\n",
      "dtypes: float64(2), int64(527)\n",
      "memory usage: 80.5 MB\n"
     ]
    }
   ],
   "source": [
    "#steps to understand the data better before feature engineering\n",
    "whole_data.info()"
   ]
  },
  {
   "cell_type": "code",
   "execution_count": 5,
   "id": "512f3fc2",
   "metadata": {},
   "outputs": [
    {
     "data": {
      "text/plain": [
       "array(['1_2', '0_0', '2_3', '2_2', '2_4', '1_0', '1_1', '2_1', '1_3',\n",
       "       '2_0', '0_2', '0_1', '0_3'], dtype=object)"
      ]
     },
     "execution_count": 5,
     "metadata": {},
     "output_type": "execute_result"
    }
   ],
   "source": [
    "#After further analysis: 100 means nothing detected, -104 means poorest signal, 0 means strongest signal\n",
    "\n",
    "#only want to use WAPs as my features since these indicate range\n",
    "WAP_columns = whole_data.columns[:520]  #storing the first 520 columns from the training set since these contain the 520 WAPs\n",
    "\n",
    "#since -104 is poorest signal, replace 100 values with -105 to show no signal\n",
    "whole_data[WAP_columns] = whole_data[WAP_columns].replace(100, -105)\n",
    "\n",
    "#to narrow down to one target instead of 2, combine the two attributes into a string: BUILDINGID_FLOOR\n",
    "#defining this as the target (Y)\n",
    "target = whole_data['BUILDINGID'].astype(str) + '_' + whole_data['FLOOR'].astype(str)\n",
    "\n",
    "#defining feature (x)\n",
    "features = whole_data[WAP_columns]\n",
    "\n",
    "target.unique() #checking what unique values we have in our target (i.e the combination of building id vs floors- there are 13)"
   ]
  },
  {
   "cell_type": "code",
   "execution_count": 6,
   "id": "28cf72af",
   "metadata": {},
   "outputs": [],
   "source": [
    "WAP_col = data_validate.columns[:520] \n",
    "#since -104 is lowest, replace 100 values with -105 to show no signal\n",
    "data_validate[WAP_col] = data_validate[WAP_col].replace(100, -105)\n",
    "\n",
    "#to narrow down to one target instead of 2, combine the two attributes into a string: BUILDINGID_FLOOR\n",
    "#defining this as the target (y)\n",
    "val_target = data_validate['BUILDINGID'].astype(str) + '_' + data_validate['FLOOR'].astype(str)\n",
    "\n",
    "#defining feature (x)\n",
    "val_feature = data_validate[WAP_col]"
   ]
  },
  {
   "cell_type": "code",
   "execution_count": 7,
   "id": "8bd912c5",
   "metadata": {},
   "outputs": [],
   "source": [
    "#split dataset features and target into a test set and training set, using 0.0557 as test size so there will be 1111 = validation size\n",
    "SEED = 0   #use this value to reproduce the same random selection \n",
    "features_train, features_test, target_train, target_test = train_test_split(\n",
    "    features, target, test_size=0.0557, random_state=SEED)"
   ]
  },
  {
   "cell_type": "code",
   "execution_count": 8,
   "id": "f68a7bab",
   "metadata": {},
   "outputs": [
    {
     "name": "stdout",
     "output_type": "stream",
     "text": [
      "test shape (1111, 520)\n",
      "train shape (18826, 520)\n"
     ]
    }
   ],
   "source": [
    "#understanding shape of input data to prep for classification model \n",
    "print(\"test shape\", features_test.shape)\n",
    "print(\"train shape\", features_train.shape)\n",
    "#step 1 complete "
   ]
  },
  {
   "cell_type": "markdown",
   "id": "f3f25eb9",
   "metadata": {},
   "source": [
    "# Step 2: picking 3 machine learning models: SVC, KNN, Random Forest "
   ]
  },
  {
   "cell_type": "markdown",
   "id": "78f2fff5",
   "metadata": {},
   "source": [
    "Random Forest "
   ]
  },
  {
   "cell_type": "code",
   "execution_count": 9,
   "id": "50c62d21",
   "metadata": {},
   "outputs": [],
   "source": [
    "#start with random forest classifier: \n",
    "from sklearn.ensemble import RandomForestClassifier #gives access to library with needed algorithms/functions\n",
    "\n",
    "#rfc will be the random forest classifier \n",
    "#since random forest uses random subset, set the random state to a specific value to make results reproducable \n",
    "rfc = RandomForestClassifier(n_estimators=13, random_state=SEED) #used 13 as n_estimators since we have 13 unique target values, tested different options and this had highest accuracy\n",
    "rfc.fit(features_train, target_train) #training model on training dataset\n",
    "\n",
    "rfc_predict_target = rfc.predict(features_test) #testing model on test set, tries to predict targets for given features "
   ]
  },
  {
   "cell_type": "code",
   "execution_count": 10,
   "id": "10afad7c",
   "metadata": {},
   "outputs": [
    {
     "name": "stdout",
     "output_type": "stream",
     "text": [
      "              precision    recall  f1-score   support\n",
      "\n",
      "         0_0       1.00      0.97      0.98        66\n",
      "         0_1       0.96      1.00      0.98        71\n",
      "         0_2       1.00      0.99      0.99        74\n",
      "         0_3       1.00      0.99      0.99        82\n",
      "         1_0       1.00      1.00      1.00        80\n",
      "         1_1       1.00      1.00      1.00        96\n",
      "         1_2       1.00      1.00      1.00        86\n",
      "         1_3       0.90      1.00      0.95        52\n",
      "         2_0       1.00      0.96      0.98       112\n",
      "         2_1       0.99      1.00      1.00       109\n",
      "         2_2       1.00      0.99      0.99        94\n",
      "         2_3       1.00      1.00      1.00       139\n",
      "         2_4       1.00      1.00      1.00        50\n",
      "\n",
      "    accuracy                           0.99      1111\n",
      "   macro avg       0.99      0.99      0.99      1111\n",
      "weighted avg       0.99      0.99      0.99      1111\n",
      "\n",
      "0.990999099909991\n"
     ]
    }
   ],
   "source": [
    "#testing accuracy of rfc:\n",
    "from sklearn.metrics import classification_report #import class for a full report of model's performance\n",
    "\n",
    "print(classification_report(target_test,rfc_predict_target)) #print full report of model's performance and analyze results \n",
    "\n",
    "accuracy = accuracy_score(target_test, rfc_predict_target) #calculate exact accuracy of model (this value won't be rounded to 2 decimal places)\n",
    "print(accuracy) \n",
    "#accuracy looks high across all, no need to further tune "
   ]
  },
  {
   "cell_type": "code",
   "execution_count": 11,
   "id": "002b320a",
   "metadata": {},
   "outputs": [
    {
     "name": "stdout",
     "output_type": "stream",
     "text": [
      "Cross Validation Score: 0.8433967599886882\n"
     ]
    }
   ],
   "source": [
    "#cross validation for rfc\n",
    "from sklearn.model_selection import cross_val_score \n",
    "\n",
    "scores = cross_val_score(rfc, val_feature, val_target, cv=5) #5 fold cross validation used to tune the model \n",
    "print(\"Cross Validation Score:\", scores.mean())\n",
    "#pretty good cross validation score, no need to further tune"
   ]
  },
  {
   "cell_type": "markdown",
   "id": "e952b9c3",
   "metadata": {},
   "source": [
    "Kth Nearest Neighbor"
   ]
  },
  {
   "cell_type": "code",
   "execution_count": 12,
   "id": "e41023b8",
   "metadata": {},
   "outputs": [],
   "source": [
    "# 2nd model: kth nearest neighbors (KNN)\n",
    "from sklearn.neighbors import KNeighborsClassifier #gives access to library with needed algorithms/functions\n",
    "\n",
    "stdscale = StandardScaler() #instance of standardScaler class to standardize features \n",
    "stdscale.fit(features_train) #fit using standard deviation and mean of features  \n",
    "\n",
    "#standardize features and target values as defined by the standardScaler class:\n",
    "features_train = stdscale.transform(features_train) \n",
    "features_test = stdscale.transform(features_test)\n",
    "\n",
    "knc = KNeighborsClassifier()\n",
    "knc.fit(features_train, target_train) #training model on training set \n",
    "\n",
    "knc_predict_target = knc.predict(features_test) #testing model by predicting target values of test set"
   ]
  },
  {
   "cell_type": "code",
   "execution_count": 13,
   "id": "1a233246",
   "metadata": {},
   "outputs": [
    {
     "name": "stdout",
     "output_type": "stream",
     "text": [
      "              precision    recall  f1-score   support\n",
      "\n",
      "         0_0       0.98      0.98      0.98        66\n",
      "         0_1       0.97      0.97      0.97        71\n",
      "         0_2       0.96      0.96      0.96        74\n",
      "         0_3       0.98      0.98      0.98        82\n",
      "         1_0       1.00      1.00      1.00        80\n",
      "         1_1       1.00      1.00      1.00        96\n",
      "         1_2       0.99      1.00      0.99        86\n",
      "         1_3       1.00      0.96      0.98        52\n",
      "         2_0       0.98      1.00      0.99       112\n",
      "         2_1       0.97      0.95      0.96       109\n",
      "         2_2       0.98      0.97      0.97        94\n",
      "         2_3       0.98      0.99      0.99       139\n",
      "         2_4       1.00      1.00      1.00        50\n",
      "\n",
      "    accuracy                           0.98      1111\n",
      "   macro avg       0.98      0.98      0.98      1111\n",
      "weighted avg       0.98      0.98      0.98      1111\n",
      "\n"
     ]
    }
   ],
   "source": [
    "print(classification_report(target_test, knc_predict_target))\n",
    "#accuracy looks good no need to further tune model"
   ]
  },
  {
   "cell_type": "code",
   "execution_count": 14,
   "id": "3f5154df",
   "metadata": {},
   "outputs": [],
   "source": [
    "#cross validation for knn tuning\n",
    "#defining target (y)\n",
    "#knc_scores = cross_val_score(knc, val_feature, val_feature, cv=5)\n",
    "# Print the cross-validation scores\n",
    "#print(\"Cross-validation scores:\", knc_scores)\n",
    "#print(\"Mean cross-validation score:\", knc_scores.mean())"
   ]
  },
  {
   "cell_type": "code",
   "execution_count": 15,
   "id": "c01c2af9",
   "metadata": {},
   "outputs": [],
   "source": [
    "#testing whether this would increase accuracy \n",
    "#knc1 = KNeighborsClassifier(n_neighbors=8)\n",
    "#knc1.fit(features_train, target_train)\n",
    "\n",
    "#knc_predict_target1 = knc1.predict(features_test)\n",
    "#print(classification_report(target_test, knc_predict_target1))"
   ]
  },
  {
   "cell_type": "markdown",
   "id": "fdc15724",
   "metadata": {},
   "source": [
    "SVC "
   ]
  },
  {
   "cell_type": "code",
   "execution_count": 16,
   "id": "da37fe6e",
   "metadata": {},
   "outputs": [],
   "source": [
    "# 3rd model: SVC\n",
    "from sklearn.svm import SVC #gives access to library with needed algorithms/functions\n",
    "\n",
    "svc = SVC(kernel='linear') #set to linear since there should be straight line boundaries between classification types(target values)\n",
    "svc.fit(features_train, target_train) #train model on training set \n",
    "\n",
    "svc_predict_target = svc.predict(features_test) #test model by predicting associated test target values"
   ]
  },
  {
   "cell_type": "code",
   "execution_count": 17,
   "id": "225131e7",
   "metadata": {},
   "outputs": [
    {
     "name": "stdout",
     "output_type": "stream",
     "text": [
      "              precision    recall  f1-score   support\n",
      "\n",
      "         0_0       0.98      0.98      0.98        66\n",
      "         0_1       0.99      0.99      0.99        71\n",
      "         0_2       0.99      1.00      0.99        74\n",
      "         0_3       1.00      0.99      0.99        82\n",
      "         1_0       1.00      0.99      0.99        80\n",
      "         1_1       0.99      1.00      0.99        96\n",
      "         1_2       0.99      1.00      0.99        86\n",
      "         1_3       0.91      0.98      0.94        52\n",
      "         2_0       1.00      0.96      0.98       112\n",
      "         2_1       1.00      1.00      1.00       109\n",
      "         2_2       1.00      1.00      1.00        94\n",
      "         2_3       1.00      1.00      1.00       139\n",
      "         2_4       1.00      1.00      1.00        50\n",
      "\n",
      "    accuracy                           0.99      1111\n",
      "   macro avg       0.99      0.99      0.99      1111\n",
      "weighted avg       0.99      0.99      0.99      1111\n",
      "\n",
      "0.990999099909991\n"
     ]
    }
   ],
   "source": [
    "print(classification_report(target_test,svc_predict_target))\n",
    "accuracy = accuracy_score(target_test, svc_predict_target)\n",
    "print(accuracy)\n",
    "#accuracy looks great no need to further tune model"
   ]
  },
  {
   "cell_type": "code",
   "execution_count": 18,
   "id": "477e29de",
   "metadata": {},
   "outputs": [
    {
     "name": "stdout",
     "output_type": "stream",
     "text": [
      "Cross Validation Score: 0.8955803336969256\n"
     ]
    }
   ],
   "source": [
    "#cross validation \n",
    "svcscores = cross_val_score(svc, val_feature, val_target, cv=5)\n",
    "print(\"Cross Validation Score:\", svcscores.mean())\n",
    "#cross validation score looks good no need to further tune "
   ]
  },
  {
   "cell_type": "markdown",
   "id": "c5087c7d",
   "metadata": {},
   "source": [
    "# Result from step 2: the best algorithm for this data set is SVC due to it's high accuracy on test data and high cross validation mean score"
   ]
  },
  {
   "cell_type": "markdown",
   "id": "1784b650",
   "metadata": {},
   "source": [
    "# Step 3: 20%, 40%, 60%, 80%, 100% of Test Set"
   ]
  },
  {
   "cell_type": "markdown",
   "id": "d6129c6e",
   "metadata": {},
   "source": [
    "Using only 20% of data for testing:"
   ]
  },
  {
   "cell_type": "code",
   "execution_count": 19,
   "id": "5737bb26",
   "metadata": {},
   "outputs": [
    {
     "name": "stdout",
     "output_type": "stream",
     "text": [
      "test shape (1111, 520)\n",
      "train shape (3987, 520)\n"
     ]
    }
   ],
   "source": [
    "# using 20% of the dataset: \n",
    "#randomly select 20% of training data to be included \n",
    "feature_train20, feature_test20, target_train20, target_test20 = train_test_split(features, target, test_size=0.0557, train_size=0.2, random_state=SEED)\n",
    "print(\"test shape\", feature_test20.shape)\n",
    "print(\"train shape\", feature_train20.shape)\n",
    "#ensuring correct number of values "
   ]
  },
  {
   "cell_type": "code",
   "execution_count": 20,
   "id": "a15e7d08",
   "metadata": {},
   "outputs": [
    {
     "name": "stdout",
     "output_type": "stream",
     "text": [
      "              precision    recall  f1-score   support\n",
      "\n",
      "         0_0       0.98      0.97      0.98        66\n",
      "         0_1       0.95      0.97      0.96        71\n",
      "         0_2       0.97      0.97      0.97        74\n",
      "         0_3       1.00      0.98      0.99        82\n",
      "         1_0       0.99      0.97      0.98        80\n",
      "         1_1       0.98      0.99      0.98        96\n",
      "         1_2       0.99      1.00      0.99        86\n",
      "         1_3       0.98      0.96      0.97        52\n",
      "         2_0       0.99      0.99      0.99       112\n",
      "         2_1       0.97      1.00      0.99       109\n",
      "         2_2       1.00      0.93      0.96        94\n",
      "         2_3       0.95      1.00      0.98       139\n",
      "         2_4       1.00      0.96      0.98        50\n",
      "\n",
      "    accuracy                           0.98      1111\n",
      "   macro avg       0.98      0.98      0.98      1111\n",
      "weighted avg       0.98      0.98      0.98      1111\n",
      "\n",
      "0.9792979297929792\n"
     ]
    }
   ],
   "source": [
    "#random forest model on 20% of the data:\n",
    "#repeat steps from earlier excluding cross validation on smaller training set \n",
    "rfc20 = RandomForestClassifier(n_estimators=13, \n",
    "                             random_state=SEED)\n",
    "rfc20.fit(feature_train20, target_train20)\n",
    "\n",
    "rfc20_predict_target = rfc20.predict(feature_test20)\n",
    "\n",
    "print(classification_report(target_test20,rfc20_predict_target))\n",
    "accuracyrfc20 = accuracy_score(target_test20, rfc20_predict_target)\n",
    "print(accuracyrfc20)"
   ]
  },
  {
   "cell_type": "code",
   "execution_count": 21,
   "id": "804ec8ff",
   "metadata": {},
   "outputs": [
    {
     "name": "stdout",
     "output_type": "stream",
     "text": [
      "              precision    recall  f1-score   support\n",
      "\n",
      "         0_0       0.97      0.95      0.96        66\n",
      "         0_1       0.93      0.94      0.94        71\n",
      "         0_2       0.90      0.95      0.92        74\n",
      "         0_3       0.97      0.93      0.95        82\n",
      "         1_0       0.92      0.99      0.95        80\n",
      "         1_1       0.99      0.94      0.96        96\n",
      "         1_2       0.99      0.98      0.98        86\n",
      "         1_3       0.98      0.96      0.97        52\n",
      "         2_0       0.97      1.00      0.99       112\n",
      "         2_1       0.98      0.94      0.96       109\n",
      "         2_2       0.95      0.98      0.96        94\n",
      "         2_3       0.96      0.98      0.97       139\n",
      "         2_4       1.00      0.96      0.98        50\n",
      "\n",
      "    accuracy                           0.96      1111\n",
      "   macro avg       0.96      0.96      0.96      1111\n",
      "weighted avg       0.96      0.96      0.96      1111\n",
      "\n",
      "0.9621962196219622\n"
     ]
    }
   ],
   "source": [
    "# kth nearest neighbors (KNN) on 20% of data:\n",
    "#repeat steps from earlier excluding cross validation on smaller training set \n",
    "stdscale.fit(feature_train20)\n",
    "feature_train20 = stdscale.transform(feature_train20)\n",
    "feature_test20 = stdscale.transform(feature_test20)\n",
    "\n",
    "knc20 = KNeighborsClassifier()\n",
    "knc20.fit(feature_train20, target_train20)\n",
    "\n",
    "knc20_predict_target = knc20.predict(feature_test20)\n",
    "\n",
    "print(classification_report(target_test20, knc20_predict_target))\n",
    "accuracy20knn = accuracy_score(target_test20, knc20_predict_target)\n",
    "print(accuracy20knn)"
   ]
  },
  {
   "cell_type": "code",
   "execution_count": 22,
   "id": "0e843299",
   "metadata": {},
   "outputs": [
    {
     "name": "stdout",
     "output_type": "stream",
     "text": [
      "              precision    recall  f1-score   support\n",
      "\n",
      "         0_0       0.96      0.97      0.96        66\n",
      "         0_1       0.96      0.96      0.96        71\n",
      "         0_2       0.99      0.99      0.99        74\n",
      "         0_3       1.00      0.99      0.99        82\n",
      "         1_0       1.00      0.99      0.99        80\n",
      "         1_1       0.99      1.00      0.99        96\n",
      "         1_2       0.99      0.99      0.99        86\n",
      "         1_3       0.98      0.96      0.97        52\n",
      "         2_0       0.99      0.99      0.99       112\n",
      "         2_1       0.99      1.00      1.00       109\n",
      "         2_2       1.00      1.00      1.00        94\n",
      "         2_3       1.00      1.00      1.00       139\n",
      "         2_4       1.00      1.00      1.00        50\n",
      "\n",
      "    accuracy                           0.99      1111\n",
      "   macro avg       0.99      0.99      0.99      1111\n",
      "weighted avg       0.99      0.99      0.99      1111\n",
      "\n",
      "0.9891989198919892\n"
     ]
    }
   ],
   "source": [
    "# svc on 20% of data:\n",
    "#repeat steps from earlier excluding cross validation on smaller training set \n",
    "svc20 = SVC(kernel='linear')\n",
    "svc20.fit(feature_train20, target_train20)\n",
    "\n",
    "svc20_predict_target = svc20.predict(feature_test20)\n",
    "\n",
    "print(classification_report(target_test20,svc20_predict_target))\n",
    "accuracysvc20 = accuracy_score(target_test20, svc20_predict_target)\n",
    "print(accuracysvc20)"
   ]
  },
  {
   "cell_type": "markdown",
   "id": "cd911d53",
   "metadata": {},
   "source": [
    "Mean accuracy for all three experiments using 20% of data for training"
   ]
  },
  {
   "cell_type": "code",
   "execution_count": 23,
   "id": "a95ba0dc",
   "metadata": {},
   "outputs": [
    {
     "name": "stdout",
     "output_type": "stream",
     "text": [
      "0.9768976897689768\n"
     ]
    }
   ],
   "source": [
    "# computing mean accuracy score for using 20% of data to train\n",
    "average20 = (accuracyrfc20 + accuracy20knn + accuracysvc20) / 3\n",
    "print(average20)"
   ]
  },
  {
   "cell_type": "markdown",
   "id": "fd105c6b",
   "metadata": {},
   "source": [
    "Using only 40% of data for testing:"
   ]
  },
  {
   "cell_type": "code",
   "execution_count": 24,
   "id": "5dbda689",
   "metadata": {},
   "outputs": [
    {
     "name": "stdout",
     "output_type": "stream",
     "text": [
      "test shape (1111, 520)\n",
      "train shape (7974, 520)\n"
     ]
    }
   ],
   "source": [
    "# using 40% of the dataset:\n",
    "#randomly select 40% of training data to be included \n",
    "feature_train40, feature_test40, target_train40, target_test40 = train_test_split(features, target, test_size=0.0557, train_size=0.4, random_state=SEED)\n",
    "\n",
    "print(\"test shape\", feature_test40.shape)\n",
    "print(\"train shape\", feature_train40.shape)\n",
    "#ensuring correct number of values "
   ]
  },
  {
   "cell_type": "code",
   "execution_count": 25,
   "id": "7975cb6f",
   "metadata": {},
   "outputs": [
    {
     "name": "stdout",
     "output_type": "stream",
     "text": [
      "              precision    recall  f1-score   support\n",
      "\n",
      "         0_0       0.98      0.97      0.98        66\n",
      "         0_1       0.97      1.00      0.99        71\n",
      "         0_2       0.99      0.99      0.99        74\n",
      "         0_3       1.00      0.99      0.99        82\n",
      "         1_0       0.99      1.00      0.99        80\n",
      "         1_1       1.00      0.99      0.99        96\n",
      "         1_2       0.99      1.00      0.99        86\n",
      "         1_3       0.91      0.98      0.94        52\n",
      "         2_0       1.00      0.96      0.98       112\n",
      "         2_1       0.98      1.00      0.99       109\n",
      "         2_2       1.00      0.98      0.99        94\n",
      "         2_3       0.99      1.00      1.00       139\n",
      "         2_4       1.00      0.98      0.99        50\n",
      "\n",
      "    accuracy                           0.99      1111\n",
      "   macro avg       0.99      0.99      0.99      1111\n",
      "weighted avg       0.99      0.99      0.99      1111\n",
      "\n",
      "0.9873987398739874\n"
     ]
    }
   ],
   "source": [
    "#random forest model on 40% of the data\n",
    "rfc40 = RandomForestClassifier(n_estimators=13, \n",
    "                             random_state=SEED)\n",
    "rfc40.fit(feature_train40, target_train40)\n",
    "\n",
    "rfc40_predict_target = rfc40.predict(feature_test40)\n",
    "\n",
    "print(classification_report(target_test40,rfc40_predict_target))\n",
    "accuracyrfc40 = accuracy_score(target_test40, rfc40_predict_target)\n",
    "print(accuracyrfc40)"
   ]
  },
  {
   "cell_type": "code",
   "execution_count": 26,
   "id": "902a083c",
   "metadata": {},
   "outputs": [
    {
     "name": "stdout",
     "output_type": "stream",
     "text": [
      "              precision    recall  f1-score   support\n",
      "\n",
      "         0_0       0.98      0.97      0.98        66\n",
      "         0_1       0.95      0.99      0.97        71\n",
      "         0_2       0.93      0.95      0.94        74\n",
      "         0_3       0.96      0.93      0.94        82\n",
      "         1_0       1.00      1.00      1.00        80\n",
      "         1_1       1.00      1.00      1.00        96\n",
      "         1_2       0.97      1.00      0.98        86\n",
      "         1_3       1.00      0.94      0.97        52\n",
      "         2_0       0.98      1.00      0.99       112\n",
      "         2_1       0.99      0.93      0.96       109\n",
      "         2_2       0.94      0.98      0.96        94\n",
      "         2_3       0.98      0.99      0.98       139\n",
      "         2_4       1.00      1.00      1.00        50\n",
      "\n",
      "    accuracy                           0.97      1111\n",
      "   macro avg       0.98      0.97      0.97      1111\n",
      "weighted avg       0.98      0.97      0.97      1111\n",
      "\n",
      "0.9747974797479748\n"
     ]
    }
   ],
   "source": [
    "# kth nearest neighbors (KNN) on 40% of data\n",
    "stdscale.fit(feature_train40)\n",
    "feature_train40 = stdscale.transform(feature_train40)\n",
    "feature_test40 = stdscale.transform(feature_test40)\n",
    "\n",
    "knc40 = KNeighborsClassifier()\n",
    "knc40.fit(feature_train40, target_train40)\n",
    "\n",
    "knc40_predict_target = knc40.predict(feature_test40)\n",
    "\n",
    "print(classification_report(target_test40, knc40_predict_target))\n",
    "accuracyknc40 = accuracy_score(target_test40, knc40_predict_target)\n",
    "print(accuracyknc40)"
   ]
  },
  {
   "cell_type": "code",
   "execution_count": 27,
   "id": "a688ac2f",
   "metadata": {},
   "outputs": [
    {
     "name": "stdout",
     "output_type": "stream",
     "text": [
      "              precision    recall  f1-score   support\n",
      "\n",
      "         0_0       0.96      0.98      0.97        66\n",
      "         0_1       0.99      0.96      0.97        71\n",
      "         0_2       0.97      0.99      0.98        74\n",
      "         0_3       1.00      0.99      0.99        82\n",
      "         1_0       1.00      0.99      0.99        80\n",
      "         1_1       0.99      1.00      0.99        96\n",
      "         1_2       0.99      1.00      0.99        86\n",
      "         1_3       1.00      0.96      0.98        52\n",
      "         2_0       0.99      1.00      1.00       112\n",
      "         2_1       1.00      0.99      1.00       109\n",
      "         2_2       0.98      0.98      0.98        94\n",
      "         2_3       0.99      0.99      0.99       139\n",
      "         2_4       1.00      1.00      1.00        50\n",
      "\n",
      "    accuracy                           0.99      1111\n",
      "   macro avg       0.99      0.99      0.99      1111\n",
      "weighted avg       0.99      0.99      0.99      1111\n",
      "\n",
      "0.9882988298829883\n"
     ]
    }
   ],
   "source": [
    "# svc on 40% of data\n",
    "svc40 = SVC(kernel='linear')\n",
    "svc40.fit(feature_train40, target_train40)\n",
    "\n",
    "svc40_predict_target = svc40.predict(feature_test40)\n",
    "\n",
    "print(classification_report(target_test40,svc40_predict_target))\n",
    "accuracysvc40 = accuracy_score(target_test40, svc40_predict_target)\n",
    "print(accuracysvc40)"
   ]
  },
  {
   "cell_type": "markdown",
   "id": "78ccfe62",
   "metadata": {},
   "source": [
    "Mean accuracy for all three experiments using 40% of data for training"
   ]
  },
  {
   "cell_type": "code",
   "execution_count": 28,
   "id": "f41f9f0e",
   "metadata": {},
   "outputs": [
    {
     "name": "stdout",
     "output_type": "stream",
     "text": [
      "0.9834983498349835\n"
     ]
    }
   ],
   "source": [
    "# computing mean accuracy score for using 40% of data to train\n",
    "average40 = (accuracyrfc40 + accuracyknc40 + accuracysvc40) / 3\n",
    "print(average40)"
   ]
  },
  {
   "cell_type": "markdown",
   "id": "b468226b",
   "metadata": {},
   "source": [
    "Using only 60% of data for testing:"
   ]
  },
  {
   "cell_type": "code",
   "execution_count": 29,
   "id": "3b0d56bd",
   "metadata": {},
   "outputs": [
    {
     "name": "stdout",
     "output_type": "stream",
     "text": [
      "test shape (1111, 520)\n",
      "train shape (11962, 520)\n"
     ]
    }
   ],
   "source": [
    "# using 60% of the dataset \n",
    "#randomly select 60% of training data to be included \n",
    "feature_train60, feature_test60, target_train60, target_test60 = train_test_split(features, target, test_size=0.0557, train_size=0.6, random_state=SEED)\n",
    "\n",
    "print(\"test shape\", feature_test60.shape)\n",
    "print(\"train shape\", feature_train60.shape)\n",
    "#ensuring correct number of values"
   ]
  },
  {
   "cell_type": "code",
   "execution_count": 30,
   "id": "1d5b10c5",
   "metadata": {},
   "outputs": [
    {
     "name": "stdout",
     "output_type": "stream",
     "text": [
      "              precision    recall  f1-score   support\n",
      "\n",
      "         0_0       0.98      0.95      0.97        66\n",
      "         0_1       0.95      0.99      0.97        71\n",
      "         0_2       1.00      0.99      0.99        74\n",
      "         0_3       1.00      1.00      1.00        82\n",
      "         1_0       1.00      0.99      0.99        80\n",
      "         1_1       0.99      1.00      0.99        96\n",
      "         1_2       0.99      1.00      0.99        86\n",
      "         1_3       0.91      0.98      0.94        52\n",
      "         2_0       0.99      0.96      0.97       112\n",
      "         2_1       1.00      0.99      1.00       109\n",
      "         2_2       1.00      1.00      1.00        94\n",
      "         2_3       1.00      1.00      1.00       139\n",
      "         2_4       1.00      1.00      1.00        50\n",
      "\n",
      "    accuracy                           0.99      1111\n",
      "   macro avg       0.99      0.99      0.99      1111\n",
      "weighted avg       0.99      0.99      0.99      1111\n",
      "\n",
      "0.9882988298829883\n"
     ]
    }
   ],
   "source": [
    "#random forest model on 60% of the data\n",
    "rfc60 = RandomForestClassifier(n_estimators=13, \n",
    "                             random_state=SEED)\n",
    "rfc60.fit(feature_train60, target_train60)\n",
    "\n",
    "rfc60_predict_target = rfc60.predict(feature_test60)\n",
    "\n",
    "print(classification_report(target_test60,rfc60_predict_target))\n",
    "accuracyrfc60 = accuracy_score(target_test60, rfc60_predict_target)\n",
    "print(accuracyrfc60)"
   ]
  },
  {
   "cell_type": "code",
   "execution_count": 31,
   "id": "bac5e77a",
   "metadata": {},
   "outputs": [
    {
     "name": "stdout",
     "output_type": "stream",
     "text": [
      "              precision    recall  f1-score   support\n",
      "\n",
      "         0_0       0.98      0.98      0.98        66\n",
      "         0_1       0.96      0.97      0.97        71\n",
      "         0_2       0.96      0.96      0.96        74\n",
      "         0_3       0.98      0.96      0.97        82\n",
      "         1_0       1.00      1.00      1.00        80\n",
      "         1_1       1.00      1.00      1.00        96\n",
      "         1_2       0.97      1.00      0.98        86\n",
      "         1_3       1.00      0.94      0.97        52\n",
      "         2_0       0.97      1.00      0.99       112\n",
      "         2_1       0.99      0.94      0.97       109\n",
      "         2_2       0.97      0.98      0.97        94\n",
      "         2_3       0.98      0.99      0.98       139\n",
      "         2_4       1.00      1.00      1.00        50\n",
      "\n",
      "    accuracy                           0.98      1111\n",
      "   macro avg       0.98      0.98      0.98      1111\n",
      "weighted avg       0.98      0.98      0.98      1111\n",
      "\n",
      "0.9801980198019802\n"
     ]
    }
   ],
   "source": [
    "# kth nearest neighbors (KNN) on 60% of data\n",
    "stdscale.fit(feature_train60)\n",
    "feature_train60 = stdscale.transform(feature_train60)\n",
    "feature_test60 = stdscale.transform(feature_test60)\n",
    "\n",
    "knc60 = KNeighborsClassifier()\n",
    "knc60.fit(feature_train60, target_train60)\n",
    "\n",
    "knc60_predict_target = knc60.predict(feature_test60)\n",
    "\n",
    "print(classification_report(target_test60, knc60_predict_target))\n",
    "accuracyknc60 = accuracy_score(target_test60, knc60_predict_target)\n",
    "print(accuracyknc60)"
   ]
  },
  {
   "cell_type": "code",
   "execution_count": 32,
   "id": "58bbd6e4",
   "metadata": {},
   "outputs": [
    {
     "name": "stdout",
     "output_type": "stream",
     "text": [
      "              precision    recall  f1-score   support\n",
      "\n",
      "         0_0       0.98      0.97      0.98        66\n",
      "         0_1       0.96      0.96      0.96        71\n",
      "         0_2       0.96      0.99      0.97        74\n",
      "         0_3       1.00      0.99      0.99        82\n",
      "         1_0       1.00      0.99      0.99        80\n",
      "         1_1       0.99      1.00      0.99        96\n",
      "         1_2       0.99      1.00      0.99        86\n",
      "         1_3       0.91      0.98      0.94        52\n",
      "         2_0       1.00      0.96      0.98       112\n",
      "         2_1       1.00      0.99      1.00       109\n",
      "         2_2       0.98      0.99      0.98        94\n",
      "         2_3       0.99      0.99      0.99       139\n",
      "         2_4       1.00      1.00      1.00        50\n",
      "\n",
      "    accuracy                           0.98      1111\n",
      "   macro avg       0.98      0.98      0.98      1111\n",
      "weighted avg       0.99      0.98      0.98      1111\n",
      "\n",
      "0.9846984698469847\n"
     ]
    }
   ],
   "source": [
    "#svc on 60% of data\n",
    "svc60 = SVC(kernel='linear')\n",
    "svc60.fit(feature_train60, target_train60)\n",
    "\n",
    "svc60_predict_target = svc60.predict(feature_test60)\n",
    "\n",
    "print(classification_report(target_test60,svc60_predict_target))\n",
    "accuracysvc60 = accuracy_score(target_test60, svc60_predict_target)\n",
    "print(accuracysvc60)"
   ]
  },
  {
   "cell_type": "markdown",
   "id": "a1d7e753",
   "metadata": {},
   "source": [
    "Mean accuracy for all three experiments using 60% of data for training"
   ]
  },
  {
   "cell_type": "code",
   "execution_count": 33,
   "id": "31bd9a64",
   "metadata": {},
   "outputs": [
    {
     "name": "stdout",
     "output_type": "stream",
     "text": [
      "0.9843984398439845\n"
     ]
    }
   ],
   "source": [
    "# computing mean accuracy score for using 60% of data to train\n",
    "average60 = (accuracyrfc60 + accuracyknc60 + accuracysvc60) / 3\n",
    "print(average60)"
   ]
  },
  {
   "cell_type": "markdown",
   "id": "4da6cc04",
   "metadata": {},
   "source": [
    "Using only 80% of data for testing:"
   ]
  },
  {
   "cell_type": "code",
   "execution_count": 34,
   "id": "73c26527",
   "metadata": {},
   "outputs": [
    {
     "name": "stdout",
     "output_type": "stream",
     "text": [
      "test shape (1111, 520)\n",
      "train shape (15949, 520)\n"
     ]
    }
   ],
   "source": [
    "# using 80% of the dataset \n",
    "#randomly select 20% of training data to be included \n",
    "feature_train80, feature_test80, target_train80, target_test80 = train_test_split(features, target, test_size=0.0557, train_size=0.8, random_state=SEED)\n",
    "\n",
    "print(\"test shape\", feature_test80.shape)\n",
    "print(\"train shape\", feature_train80.shape)\n",
    "#ensuring correct number of values"
   ]
  },
  {
   "cell_type": "code",
   "execution_count": 35,
   "id": "b231d03f",
   "metadata": {},
   "outputs": [
    {
     "name": "stdout",
     "output_type": "stream",
     "text": [
      "              precision    recall  f1-score   support\n",
      "\n",
      "         0_0       1.00      0.97      0.98        66\n",
      "         0_1       0.97      1.00      0.99        71\n",
      "         0_2       0.99      1.00      0.99        74\n",
      "         0_3       1.00      0.99      0.99        82\n",
      "         1_0       0.99      1.00      0.99        80\n",
      "         1_1       1.00      0.99      0.99        96\n",
      "         1_2       1.00      1.00      1.00        86\n",
      "         1_3       0.91      1.00      0.95        52\n",
      "         2_0       1.00      0.96      0.98       112\n",
      "         2_1       1.00      1.00      1.00       109\n",
      "         2_2       1.00      1.00      1.00        94\n",
      "         2_3       1.00      1.00      1.00       139\n",
      "         2_4       1.00      1.00      1.00        50\n",
      "\n",
      "    accuracy                           0.99      1111\n",
      "   macro avg       0.99      0.99      0.99      1111\n",
      "weighted avg       0.99      0.99      0.99      1111\n",
      "\n",
      "0.991899189918992\n"
     ]
    }
   ],
   "source": [
    "#random forest model on 80% of the data\n",
    "rfc80 = RandomForestClassifier(n_estimators=13, \n",
    "                             random_state=SEED)\n",
    "rfc80.fit(feature_train80, target_train80)\n",
    "\n",
    "rfc80_predict_target = rfc80.predict(feature_test80)\n",
    "\n",
    "print(classification_report(target_test80,rfc80_predict_target))\n",
    "accuracyrfc80 = accuracy_score(target_test80, rfc80_predict_target)\n",
    "print(accuracyrfc80)"
   ]
  },
  {
   "cell_type": "code",
   "execution_count": 36,
   "id": "cd464f28",
   "metadata": {},
   "outputs": [
    {
     "name": "stdout",
     "output_type": "stream",
     "text": [
      "              precision    recall  f1-score   support\n",
      "\n",
      "         0_0       1.00      0.98      0.99        66\n",
      "         0_1       0.99      0.99      0.99        71\n",
      "         0_2       0.96      0.97      0.97        74\n",
      "         0_3       0.98      0.98      0.98        82\n",
      "         1_0       1.00      1.00      1.00        80\n",
      "         1_1       1.00      1.00      1.00        96\n",
      "         1_2       0.99      1.00      0.99        86\n",
      "         1_3       1.00      0.96      0.98        52\n",
      "         2_0       0.97      1.00      0.99       112\n",
      "         2_1       0.97      0.95      0.96       109\n",
      "         2_2       0.98      0.97      0.97        94\n",
      "         2_3       0.98      0.99      0.98       139\n",
      "         2_4       1.00      1.00      1.00        50\n",
      "\n",
      "    accuracy                           0.98      1111\n",
      "   macro avg       0.99      0.98      0.98      1111\n",
      "weighted avg       0.98      0.98      0.98      1111\n",
      "\n",
      "0.9837983798379838\n"
     ]
    }
   ],
   "source": [
    "# kth nearest neighbors (KNN) on 80% of data\n",
    "stdscale.fit(feature_train80)\n",
    "feature_train80 = stdscale.transform(feature_train80)\n",
    "feature_test80 = stdscale.transform(feature_test80)\n",
    "\n",
    "knc80 = KNeighborsClassifier()\n",
    "knc80.fit(feature_train80, target_train80)\n",
    "\n",
    "knc80_predict_target = knc80.predict(feature_test80)\n",
    "\n",
    "print(classification_report(target_test80, knc80_predict_target))\n",
    "accuracyknc80 = accuracy_score(target_test80, knc80_predict_target)\n",
    "print(accuracyknc80)"
   ]
  },
  {
   "cell_type": "code",
   "execution_count": 37,
   "id": "604624e7",
   "metadata": {},
   "outputs": [
    {
     "name": "stdout",
     "output_type": "stream",
     "text": [
      "              precision    recall  f1-score   support\n",
      "\n",
      "         0_0       0.98      0.97      0.98        66\n",
      "         0_1       0.97      0.99      0.98        71\n",
      "         0_2       0.99      1.00      0.99        74\n",
      "         0_3       1.00      0.99      0.99        82\n",
      "         1_0       1.00      0.99      0.99        80\n",
      "         1_1       0.99      1.00      0.99        96\n",
      "         1_2       0.99      1.00      0.99        86\n",
      "         1_3       0.91      0.98      0.94        52\n",
      "         2_0       1.00      0.96      0.98       112\n",
      "         2_1       1.00      1.00      1.00       109\n",
      "         2_2       0.99      1.00      0.99        94\n",
      "         2_3       1.00      0.99      1.00       139\n",
      "         2_4       1.00      1.00      1.00        50\n",
      "\n",
      "    accuracy                           0.99      1111\n",
      "   macro avg       0.99      0.99      0.99      1111\n",
      "weighted avg       0.99      0.99      0.99      1111\n",
      "\n",
      "0.9891989198919892\n"
     ]
    }
   ],
   "source": [
    "#svc on 80% of data\n",
    "svc80 = SVC(kernel='linear')\n",
    "svc80.fit(feature_train80, target_train80)\n",
    "\n",
    "svc80_predict_target = svc80.predict(feature_test80)\n",
    "\n",
    "print(classification_report(target_test80,svc80_predict_target))\n",
    "accuracysvc80 = accuracy_score(target_test80, svc80_predict_target)\n",
    "print(accuracysvc80)"
   ]
  },
  {
   "cell_type": "markdown",
   "id": "bf38e32f",
   "metadata": {},
   "source": [
    "Mean accuracy for all three experiments using 80% of data for training"
   ]
  },
  {
   "cell_type": "code",
   "execution_count": 38,
   "id": "2e088d68",
   "metadata": {},
   "outputs": [
    {
     "name": "stdout",
     "output_type": "stream",
     "text": [
      "0.9882988298829883\n"
     ]
    }
   ],
   "source": [
    "# computing mean accuracy score for using 80% of data to train\n",
    "average80 = (accuracyrfc80 + accuracyknc80 + accuracysvc80) / 3\n",
    "print(average80)"
   ]
  },
  {
   "cell_type": "markdown",
   "id": "3da70b76",
   "metadata": {},
   "source": [
    "Using 100% of data for testing:"
   ]
  },
  {
   "cell_type": "code",
   "execution_count": 39,
   "id": "c2dc260f",
   "metadata": {},
   "outputs": [
    {
     "name": "stdout",
     "output_type": "stream",
     "text": [
      "train shape (19937, 520)\n"
     ]
    }
   ],
   "source": [
    "# using 100% of the dataset, no need to split\n",
    "print(\"train shape\", features.shape)\n",
    "#ensuring correct number of values"
   ]
  },
  {
   "cell_type": "code",
   "execution_count": 40,
   "id": "f30dd067",
   "metadata": {},
   "outputs": [
    {
     "name": "stdout",
     "output_type": "stream",
     "text": [
      "              precision    recall  f1-score   support\n",
      "\n",
      "         0_0       1.00      1.00      1.00      1059\n",
      "         0_1       1.00      1.00      1.00      1356\n",
      "         0_2       1.00      1.00      1.00      1443\n",
      "         0_3       1.00      1.00      1.00      1391\n",
      "         1_0       1.00      1.00      1.00      1368\n",
      "         1_1       1.00      1.00      1.00      1484\n",
      "         1_2       1.00      1.00      1.00      1396\n",
      "         1_3       0.96      1.00      0.98       948\n",
      "         2_0       1.00      0.98      0.99      1942\n",
      "         2_1       1.00      1.00      1.00      2162\n",
      "         2_2       1.00      1.00      1.00      1577\n",
      "         2_3       1.00      1.00      1.00      2709\n",
      "         2_4       1.00      1.00      1.00      1102\n",
      "\n",
      "    accuracy                           1.00     19937\n",
      "   macro avg       1.00      1.00      1.00     19937\n",
      "weighted avg       1.00      1.00      1.00     19937\n",
      "\n",
      "0.9980438380899834\n"
     ]
    }
   ],
   "source": [
    "#random forest model on 100% of the data\n",
    "rfc100 = RandomForestClassifier(n_estimators=13, \n",
    "                             random_state=SEED)\n",
    "rfc100.fit(features, target)\n",
    "\n",
    "rfc100_predict_target = rfc100.predict(features)\n",
    "\n",
    "print(classification_report(target,rfc100_predict_target))\n",
    "accuracyrfc100 = accuracy_score(target, rfc100_predict_target)\n",
    "print(accuracyrfc100)"
   ]
  },
  {
   "cell_type": "code",
   "execution_count": 41,
   "id": "4d3fd255",
   "metadata": {},
   "outputs": [
    {
     "name": "stdout",
     "output_type": "stream",
     "text": [
      "              precision    recall  f1-score   support\n",
      "\n",
      "         0_0       0.99      1.00      0.99      1059\n",
      "         0_1       0.99      0.99      0.99      1356\n",
      "         0_2       0.99      0.98      0.99      1443\n",
      "         0_3       0.99      0.99      0.99      1391\n",
      "         1_0       1.00      1.00      1.00      1368\n",
      "         1_1       1.00      0.99      1.00      1484\n",
      "         1_2       0.99      1.00      0.99      1396\n",
      "         1_3       0.96      0.99      0.97       948\n",
      "         2_0       1.00      0.98      0.99      1942\n",
      "         2_1       0.99      0.99      0.99      2162\n",
      "         2_2       0.99      0.98      0.99      1577\n",
      "         2_3       0.99      1.00      1.00      2709\n",
      "         2_4       1.00      1.00      1.00      1102\n",
      "\n",
      "    accuracy                           0.99     19937\n",
      "   macro avg       0.99      0.99      0.99     19937\n",
      "weighted avg       0.99      0.99      0.99     19937\n",
      "\n",
      "0.9910718764106937\n"
     ]
    }
   ],
   "source": [
    "# kth nearest neighbors (KNN) on 100% of data\n",
    "stdscale.fit(features)\n",
    "features = stdscale.transform(features)\n",
    "\n",
    "knc100 = KNeighborsClassifier()\n",
    "knc100.fit(features, target)\n",
    "\n",
    "knc100_predict_target = knc100.predict(features)\n",
    "\n",
    "print(classification_report(target, knc100_predict_target))\n",
    "accuracyknc100 = accuracy_score(target, knc100_predict_target)\n",
    "print(accuracyknc100)"
   ]
  },
  {
   "cell_type": "code",
   "execution_count": 42,
   "id": "d8cb5380",
   "metadata": {},
   "outputs": [
    {
     "name": "stdout",
     "output_type": "stream",
     "text": [
      "              precision    recall  f1-score   support\n",
      "\n",
      "         0_0       1.00      1.00      1.00      1059\n",
      "         0_1       1.00      1.00      1.00      1356\n",
      "         0_2       1.00      1.00      1.00      1443\n",
      "         0_3       1.00      1.00      1.00      1391\n",
      "         1_0       1.00      1.00      1.00      1368\n",
      "         1_1       1.00      1.00      1.00      1484\n",
      "         1_2       1.00      1.00      1.00      1396\n",
      "         1_3       0.96      1.00      0.98       948\n",
      "         2_0       1.00      0.98      0.99      1942\n",
      "         2_1       1.00      1.00      1.00      2162\n",
      "         2_2       1.00      1.00      1.00      1577\n",
      "         2_3       1.00      1.00      1.00      2709\n",
      "         2_4       1.00      1.00      1.00      1102\n",
      "\n",
      "    accuracy                           1.00     19937\n",
      "   macro avg       1.00      1.00      1.00     19937\n",
      "weighted avg       1.00      1.00      1.00     19937\n",
      "\n",
      "0.9978432060992125\n"
     ]
    }
   ],
   "source": [
    "#svc on 100% of data\n",
    "svc100 = SVC(kernel='linear')\n",
    "svc100.fit(features, target)\n",
    "\n",
    "svc100_predict_target = svc100.predict(features)\n",
    "\n",
    "print(classification_report(target,svc100_predict_target))\n",
    "accuracysvc100 = accuracy_score(target, svc100_predict_target)\n",
    "print(accuracysvc100)"
   ]
  },
  {
   "cell_type": "markdown",
   "id": "70845277",
   "metadata": {},
   "source": [
    "Mean accuracy for all three experiments using 100% of data for training"
   ]
  },
  {
   "cell_type": "code",
   "execution_count": 43,
   "id": "edc96e5c",
   "metadata": {},
   "outputs": [
    {
     "name": "stdout",
     "output_type": "stream",
     "text": [
      "0.9956529735332965\n"
     ]
    }
   ],
   "source": [
    "# computing mean accuracy score for using 100% of data to train\n",
    "average100 = (accuracyrfc100 + accuracyknc100 + accuracysvc100) / 3\n",
    "print(average100)"
   ]
  },
  {
   "cell_type": "markdown",
   "id": "bea604e4",
   "metadata": {},
   "source": [
    "Scatterplot of averages for each percentage (inludes all 3 experiments for each %)"
   ]
  },
  {
   "cell_type": "code",
   "execution_count": 44,
   "id": "9a06e044",
   "metadata": {},
   "outputs": [
    {
     "data": {
      "image/png": "[encoded data removed]",
      "text/plain": [
       "<Figure size 1000x500 with 1 Axes>"
      ]
     },
     "metadata": {},
     "output_type": "display_data"
    }
   ],
   "source": [
    "#plotting averages:\n",
    "\n",
    "#variables:\n",
    "percent_data = [20, 40, 60, 80, 100] #including each percentage datapoint that I considered \n",
    "average = [average20, average40, average60, average80, average100] #all the averages for each percentage\n",
    "\n",
    "#configuring plot:\n",
    "plt.figure(figsize=(10, 5)) #size of chart diplayed \n",
    "plt.scatter(percent_data, average, color='red', marker='o') #creates dot scatter plot with percentages on x axis and averages on y axis\n",
    "plt.xlabel('Percent used For Training Data') #labels x axis \n",
    "plt.ylabel('Average Accuracy') #labels y axis \n",
    "plt.title('Average accuracy based on Training Size') #labels title \n",
    "plt.grid(True) #adds grid \n",
    "plt.show() "
   ]
  },
  {
   "cell_type": "markdown",
   "id": "ba24292f",
   "metadata": {},
   "source": [
    "# Result: More data results in higher average accuracy scores, however, it is important to avoid using all the data as training data because it is possible the model will overfit the data and be unable to replicate the same accuracy on a test set. More data is better as long as there is a sufficient amount of data left over for the testing set. "
   ]
  }
 ],
 "metadata": {
  "kernelspec": {
   "display_name": "Python 3 (ipykernel)",
   "language": "python",
   "name": "python3"
  },
  "language_info": {
   "codemirror_mode": {
    "name": "ipython",
    "version": 3
   },
   "file_extension": ".py",
   "mimetype": "text/x-python",
   "name": "python",
   "nbconvert_exporter": "python",
   "pygments_lexer": "ipython3",
   "version": "3.11.4"
  }
 },
 "nbformat": 4,
 "nbformat_minor": 5
}
